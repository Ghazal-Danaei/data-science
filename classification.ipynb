{
 "cells": [
  {
   "cell_type": "code",
   "execution_count": 216,
   "id": "a3e12f61",
   "metadata": {},
   "outputs": [],
   "source": [
    "import numpy as np\n",
    "import pandas as pd\n",
    "from sklearn.metrics import confusion_matrix"
   ]
  },
  {
   "cell_type": "code",
   "execution_count": 217,
   "id": "61b2d505",
   "metadata": {},
   "outputs": [
    {
     "data": {
      "text/html": [
       "<div>\n",
       "<style scoped>\n",
       "    .dataframe tbody tr th:only-of-type {\n",
       "        vertical-align: middle;\n",
       "    }\n",
       "\n",
       "    .dataframe tbody tr th {\n",
       "        vertical-align: top;\n",
       "    }\n",
       "\n",
       "    .dataframe thead th {\n",
       "        text-align: right;\n",
       "    }\n",
       "</style>\n",
       "<table border=\"1\" class=\"dataframe\">\n",
       "  <thead>\n",
       "    <tr style=\"text-align: right;\">\n",
       "      <th></th>\n",
       "      <th>ip</th>\n",
       "      <th>app</th>\n",
       "      <th>device</th>\n",
       "      <th>os</th>\n",
       "      <th>channel</th>\n",
       "      <th>click_time</th>\n",
       "      <th>attributed_time</th>\n",
       "      <th>is_attributed</th>\n",
       "    </tr>\n",
       "  </thead>\n",
       "  <tbody>\n",
       "    <tr>\n",
       "      <th>0</th>\n",
       "      <td>89489</td>\n",
       "      <td>3</td>\n",
       "      <td>1</td>\n",
       "      <td>13</td>\n",
       "      <td>379</td>\n",
       "      <td>2017-11-06 15:13:23</td>\n",
       "      <td>NaN</td>\n",
       "      <td>0</td>\n",
       "    </tr>\n",
       "    <tr>\n",
       "      <th>1</th>\n",
       "      <td>204158</td>\n",
       "      <td>35</td>\n",
       "      <td>1</td>\n",
       "      <td>13</td>\n",
       "      <td>21</td>\n",
       "      <td>2017-11-06 15:41:07</td>\n",
       "      <td>2017-11-07 08:17:19</td>\n",
       "      <td>1</td>\n",
       "    </tr>\n",
       "    <tr>\n",
       "      <th>2</th>\n",
       "      <td>3437</td>\n",
       "      <td>6</td>\n",
       "      <td>1</td>\n",
       "      <td>13</td>\n",
       "      <td>459</td>\n",
       "      <td>2017-11-06 15:42:32</td>\n",
       "      <td>NaN</td>\n",
       "      <td>0</td>\n",
       "    </tr>\n",
       "    <tr>\n",
       "      <th>3</th>\n",
       "      <td>167543</td>\n",
       "      <td>3</td>\n",
       "      <td>1</td>\n",
       "      <td>13</td>\n",
       "      <td>379</td>\n",
       "      <td>2017-11-06 15:56:17</td>\n",
       "      <td>NaN</td>\n",
       "      <td>0</td>\n",
       "    </tr>\n",
       "    <tr>\n",
       "      <th>4</th>\n",
       "      <td>147509</td>\n",
       "      <td>3</td>\n",
       "      <td>1</td>\n",
       "      <td>13</td>\n",
       "      <td>379</td>\n",
       "      <td>2017-11-06 15:57:01</td>\n",
       "      <td>NaN</td>\n",
       "      <td>0</td>\n",
       "    </tr>\n",
       "    <tr>\n",
       "      <th>...</th>\n",
       "      <td>...</td>\n",
       "      <td>...</td>\n",
       "      <td>...</td>\n",
       "      <td>...</td>\n",
       "      <td>...</td>\n",
       "      <td>...</td>\n",
       "      <td>...</td>\n",
       "      <td>...</td>\n",
       "    </tr>\n",
       "    <tr>\n",
       "      <th>2300556</th>\n",
       "      <td>32457</td>\n",
       "      <td>2</td>\n",
       "      <td>1</td>\n",
       "      <td>19</td>\n",
       "      <td>477</td>\n",
       "      <td>2017-11-09 15:59:59</td>\n",
       "      <td>NaN</td>\n",
       "      <td>0</td>\n",
       "    </tr>\n",
       "    <tr>\n",
       "      <th>2300557</th>\n",
       "      <td>20266</td>\n",
       "      <td>14</td>\n",
       "      <td>1</td>\n",
       "      <td>13</td>\n",
       "      <td>446</td>\n",
       "      <td>2017-11-09 15:59:59</td>\n",
       "      <td>NaN</td>\n",
       "      <td>0</td>\n",
       "    </tr>\n",
       "    <tr>\n",
       "      <th>2300558</th>\n",
       "      <td>49383</td>\n",
       "      <td>12</td>\n",
       "      <td>2</td>\n",
       "      <td>17</td>\n",
       "      <td>178</td>\n",
       "      <td>2017-11-09 16:00:00</td>\n",
       "      <td>NaN</td>\n",
       "      <td>0</td>\n",
       "    </tr>\n",
       "    <tr>\n",
       "      <th>2300559</th>\n",
       "      <td>34894</td>\n",
       "      <td>12</td>\n",
       "      <td>1</td>\n",
       "      <td>15</td>\n",
       "      <td>145</td>\n",
       "      <td>2017-11-09 16:00:00</td>\n",
       "      <td>NaN</td>\n",
       "      <td>0</td>\n",
       "    </tr>\n",
       "    <tr>\n",
       "      <th>2300560</th>\n",
       "      <td>232000</td>\n",
       "      <td>9</td>\n",
       "      <td>1</td>\n",
       "      <td>19</td>\n",
       "      <td>134</td>\n",
       "      <td>2017-11-09 16:00:00</td>\n",
       "      <td>NaN</td>\n",
       "      <td>0</td>\n",
       "    </tr>\n",
       "  </tbody>\n",
       "</table>\n",
       "<p>2300561 rows × 8 columns</p>\n",
       "</div>"
      ],
      "text/plain": [
       "             ip  app  device  os  channel           click_time  \\\n",
       "0         89489    3       1  13      379  2017-11-06 15:13:23   \n",
       "1        204158   35       1  13       21  2017-11-06 15:41:07   \n",
       "2          3437    6       1  13      459  2017-11-06 15:42:32   \n",
       "3        167543    3       1  13      379  2017-11-06 15:56:17   \n",
       "4        147509    3       1  13      379  2017-11-06 15:57:01   \n",
       "...         ...  ...     ...  ..      ...                  ...   \n",
       "2300556   32457    2       1  19      477  2017-11-09 15:59:59   \n",
       "2300557   20266   14       1  13      446  2017-11-09 15:59:59   \n",
       "2300558   49383   12       2  17      178  2017-11-09 16:00:00   \n",
       "2300559   34894   12       1  15      145  2017-11-09 16:00:00   \n",
       "2300560  232000    9       1  19      134  2017-11-09 16:00:00   \n",
       "\n",
       "             attributed_time  is_attributed  \n",
       "0                        NaN              0  \n",
       "1        2017-11-07 08:17:19              1  \n",
       "2                        NaN              0  \n",
       "3                        NaN              0  \n",
       "4                        NaN              0  \n",
       "...                      ...            ...  \n",
       "2300556                  NaN              0  \n",
       "2300557                  NaN              0  \n",
       "2300558                  NaN              0  \n",
       "2300559                  NaN              0  \n",
       "2300560                  NaN              0  \n",
       "\n",
       "[2300561 rows x 8 columns]"
      ]
     },
     "execution_count": 217,
     "metadata": {},
     "output_type": "execute_result"
    }
   ],
   "source": [
    "data=pd.read_csv(\"dataset.csv\")\n",
    "data"
   ]
  },
  {
   "cell_type": "code",
   "execution_count": 218,
   "id": "094addd4",
   "metadata": {},
   "outputs": [
    {
     "name": "stdout",
     "output_type": "stream",
     "text": [
      "<class 'pandas.core.frame.DataFrame'>\n",
      "RangeIndex: 2300561 entries, 0 to 2300560\n",
      "Data columns (total 8 columns):\n",
      " #   Column           Dtype \n",
      "---  ------           ----- \n",
      " 0   ip               int64 \n",
      " 1   app              int64 \n",
      " 2   device           int64 \n",
      " 3   os               int64 \n",
      " 4   channel          int64 \n",
      " 5   click_time       object\n",
      " 6   attributed_time  object\n",
      " 7   is_attributed    int64 \n",
      "dtypes: int64(6), object(2)\n",
      "memory usage: 140.4+ MB\n"
     ]
    }
   ],
   "source": [
    "data.info()"
   ]
  },
  {
   "cell_type": "code",
   "execution_count": 219,
   "id": "a1e7b0eb",
   "metadata": {},
   "outputs": [],
   "source": [
    "data[\"click_time\"] = pd.to_datetime(data[\"click_time\"])"
   ]
  },
  {
   "cell_type": "code",
   "execution_count": 220,
   "id": "903ed8d4",
   "metadata": {},
   "outputs": [
    {
     "data": {
      "text/html": [
       "<div>\n",
       "<style scoped>\n",
       "    .dataframe tbody tr th:only-of-type {\n",
       "        vertical-align: middle;\n",
       "    }\n",
       "\n",
       "    .dataframe tbody tr th {\n",
       "        vertical-align: top;\n",
       "    }\n",
       "\n",
       "    .dataframe thead th {\n",
       "        text-align: right;\n",
       "    }\n",
       "</style>\n",
       "<table border=\"1\" class=\"dataframe\">\n",
       "  <thead>\n",
       "    <tr style=\"text-align: right;\">\n",
       "      <th></th>\n",
       "      <th>ip</th>\n",
       "      <th>app</th>\n",
       "      <th>device</th>\n",
       "      <th>os</th>\n",
       "      <th>channel</th>\n",
       "      <th>is_attributed</th>\n",
       "    </tr>\n",
       "  </thead>\n",
       "  <tbody>\n",
       "    <tr>\n",
       "      <th>0</th>\n",
       "      <td>89489</td>\n",
       "      <td>3</td>\n",
       "      <td>1</td>\n",
       "      <td>13</td>\n",
       "      <td>379</td>\n",
       "      <td>0</td>\n",
       "    </tr>\n",
       "    <tr>\n",
       "      <th>1</th>\n",
       "      <td>204158</td>\n",
       "      <td>35</td>\n",
       "      <td>1</td>\n",
       "      <td>13</td>\n",
       "      <td>21</td>\n",
       "      <td>1</td>\n",
       "    </tr>\n",
       "    <tr>\n",
       "      <th>2</th>\n",
       "      <td>3437</td>\n",
       "      <td>6</td>\n",
       "      <td>1</td>\n",
       "      <td>13</td>\n",
       "      <td>459</td>\n",
       "      <td>0</td>\n",
       "    </tr>\n",
       "    <tr>\n",
       "      <th>3</th>\n",
       "      <td>167543</td>\n",
       "      <td>3</td>\n",
       "      <td>1</td>\n",
       "      <td>13</td>\n",
       "      <td>379</td>\n",
       "      <td>0</td>\n",
       "    </tr>\n",
       "    <tr>\n",
       "      <th>4</th>\n",
       "      <td>147509</td>\n",
       "      <td>3</td>\n",
       "      <td>1</td>\n",
       "      <td>13</td>\n",
       "      <td>379</td>\n",
       "      <td>0</td>\n",
       "    </tr>\n",
       "    <tr>\n",
       "      <th>...</th>\n",
       "      <td>...</td>\n",
       "      <td>...</td>\n",
       "      <td>...</td>\n",
       "      <td>...</td>\n",
       "      <td>...</td>\n",
       "      <td>...</td>\n",
       "    </tr>\n",
       "    <tr>\n",
       "      <th>2300556</th>\n",
       "      <td>32457</td>\n",
       "      <td>2</td>\n",
       "      <td>1</td>\n",
       "      <td>19</td>\n",
       "      <td>477</td>\n",
       "      <td>0</td>\n",
       "    </tr>\n",
       "    <tr>\n",
       "      <th>2300557</th>\n",
       "      <td>20266</td>\n",
       "      <td>14</td>\n",
       "      <td>1</td>\n",
       "      <td>13</td>\n",
       "      <td>446</td>\n",
       "      <td>0</td>\n",
       "    </tr>\n",
       "    <tr>\n",
       "      <th>2300558</th>\n",
       "      <td>49383</td>\n",
       "      <td>12</td>\n",
       "      <td>2</td>\n",
       "      <td>17</td>\n",
       "      <td>178</td>\n",
       "      <td>0</td>\n",
       "    </tr>\n",
       "    <tr>\n",
       "      <th>2300559</th>\n",
       "      <td>34894</td>\n",
       "      <td>12</td>\n",
       "      <td>1</td>\n",
       "      <td>15</td>\n",
       "      <td>145</td>\n",
       "      <td>0</td>\n",
       "    </tr>\n",
       "    <tr>\n",
       "      <th>2300560</th>\n",
       "      <td>232000</td>\n",
       "      <td>9</td>\n",
       "      <td>1</td>\n",
       "      <td>19</td>\n",
       "      <td>134</td>\n",
       "      <td>0</td>\n",
       "    </tr>\n",
       "  </tbody>\n",
       "</table>\n",
       "<p>2300561 rows × 6 columns</p>\n",
       "</div>"
      ],
      "text/plain": [
       "             ip  app  device  os  channel  is_attributed\n",
       "0         89489    3       1  13      379              0\n",
       "1        204158   35       1  13       21              1\n",
       "2          3437    6       1  13      459              0\n",
       "3        167543    3       1  13      379              0\n",
       "4        147509    3       1  13      379              0\n",
       "...         ...  ...     ...  ..      ...            ...\n",
       "2300556   32457    2       1  19      477              0\n",
       "2300557   20266   14       1  13      446              0\n",
       "2300558   49383   12       2  17      178              0\n",
       "2300559   34894   12       1  15      145              0\n",
       "2300560  232000    9       1  19      134              0\n",
       "\n",
       "[2300561 rows x 6 columns]"
      ]
     },
     "execution_count": 220,
     "metadata": {},
     "output_type": "execute_result"
    }
   ],
   "source": [
    "data = data.drop(columns= [\"attributed_time\"])\n",
    "data = data.drop(columns= [\"click_time\"])\n",
    "data\n"
   ]
  },
  {
   "cell_type": "code",
   "execution_count": 221,
   "id": "34873ad7",
   "metadata": {},
   "outputs": [
    {
     "data": {
      "text/plain": [
       "ip               0\n",
       "app              0\n",
       "device           0\n",
       "os               0\n",
       "channel          0\n",
       "is_attributed    0\n",
       "dtype: int64"
      ]
     },
     "execution_count": 221,
     "metadata": {},
     "output_type": "execute_result"
    }
   ],
   "source": [
    "data.isna().sum()"
   ]
  },
  {
   "cell_type": "code",
   "execution_count": 222,
   "id": "787edff8",
   "metadata": {},
   "outputs": [],
   "source": [
    "data = data.sample(n = 10000)"
   ]
  },
  {
   "cell_type": "code",
   "execution_count": 223,
   "id": "cdac9288",
   "metadata": {},
   "outputs": [],
   "source": [
    "from sklearn.model_selection import train_test_split"
   ]
  },
  {
   "cell_type": "code",
   "execution_count": 224,
   "id": "a031945f",
   "metadata": {},
   "outputs": [],
   "source": [
    "x=data.iloc[:,0:6]\n",
    "y=data.iloc[:,-1]"
   ]
  },
  {
   "cell_type": "code",
   "execution_count": 225,
   "id": "3947d7e0",
   "metadata": {},
   "outputs": [],
   "source": [
    "x_train, x_test, y_train, y_test = train_test_split(x, y, test_size=0.20,random_state=4)\n",
    "x_train2, x_test2, y_train2, y_test2 = train_test_split(x, y, test_size=0.20,random_state=4)"
   ]
  },
  {
   "cell_type": "code",
   "execution_count": 226,
   "id": "52dd4e4e",
   "metadata": {},
   "outputs": [
    {
     "data": {
      "text/html": [
       "<div>\n",
       "<style scoped>\n",
       "    .dataframe tbody tr th:only-of-type {\n",
       "        vertical-align: middle;\n",
       "    }\n",
       "\n",
       "    .dataframe tbody tr th {\n",
       "        vertical-align: top;\n",
       "    }\n",
       "\n",
       "    .dataframe thead th {\n",
       "        text-align: right;\n",
       "    }\n",
       "</style>\n",
       "<table border=\"1\" class=\"dataframe\">\n",
       "  <thead>\n",
       "    <tr style=\"text-align: right;\">\n",
       "      <th></th>\n",
       "      <th>ip</th>\n",
       "      <th>app</th>\n",
       "      <th>device</th>\n",
       "      <th>os</th>\n",
       "      <th>channel</th>\n",
       "      <th>is_attributed</th>\n",
       "    </tr>\n",
       "  </thead>\n",
       "  <tbody>\n",
       "    <tr>\n",
       "      <th>796716</th>\n",
       "      <td>235700</td>\n",
       "      <td>14</td>\n",
       "      <td>1</td>\n",
       "      <td>19</td>\n",
       "      <td>401</td>\n",
       "      <td>0</td>\n",
       "    </tr>\n",
       "    <tr>\n",
       "      <th>898114</th>\n",
       "      <td>221442</td>\n",
       "      <td>116</td>\n",
       "      <td>1</td>\n",
       "      <td>28</td>\n",
       "      <td>101</td>\n",
       "      <td>1</td>\n",
       "    </tr>\n",
       "    <tr>\n",
       "      <th>2193032</th>\n",
       "      <td>107155</td>\n",
       "      <td>15</td>\n",
       "      <td>1</td>\n",
       "      <td>17</td>\n",
       "      <td>245</td>\n",
       "      <td>0</td>\n",
       "    </tr>\n",
       "    <tr>\n",
       "      <th>2072853</th>\n",
       "      <td>323190</td>\n",
       "      <td>18</td>\n",
       "      <td>1</td>\n",
       "      <td>12</td>\n",
       "      <td>449</td>\n",
       "      <td>0</td>\n",
       "    </tr>\n",
       "    <tr>\n",
       "      <th>1390668</th>\n",
       "      <td>73124</td>\n",
       "      <td>9</td>\n",
       "      <td>1</td>\n",
       "      <td>16</td>\n",
       "      <td>466</td>\n",
       "      <td>1</td>\n",
       "    </tr>\n",
       "    <tr>\n",
       "      <th>...</th>\n",
       "      <td>...</td>\n",
       "      <td>...</td>\n",
       "      <td>...</td>\n",
       "      <td>...</td>\n",
       "      <td>...</td>\n",
       "      <td>...</td>\n",
       "    </tr>\n",
       "    <tr>\n",
       "      <th>1132972</th>\n",
       "      <td>59508</td>\n",
       "      <td>5</td>\n",
       "      <td>1</td>\n",
       "      <td>13</td>\n",
       "      <td>377</td>\n",
       "      <td>0</td>\n",
       "    </tr>\n",
       "    <tr>\n",
       "      <th>1217592</th>\n",
       "      <td>239235</td>\n",
       "      <td>3</td>\n",
       "      <td>1</td>\n",
       "      <td>19</td>\n",
       "      <td>205</td>\n",
       "      <td>0</td>\n",
       "    </tr>\n",
       "    <tr>\n",
       "      <th>988566</th>\n",
       "      <td>75634</td>\n",
       "      <td>2</td>\n",
       "      <td>1</td>\n",
       "      <td>27</td>\n",
       "      <td>205</td>\n",
       "      <td>0</td>\n",
       "    </tr>\n",
       "    <tr>\n",
       "      <th>1218612</th>\n",
       "      <td>143638</td>\n",
       "      <td>11</td>\n",
       "      <td>1</td>\n",
       "      <td>6</td>\n",
       "      <td>325</td>\n",
       "      <td>0</td>\n",
       "    </tr>\n",
       "    <tr>\n",
       "      <th>699505</th>\n",
       "      <td>36213</td>\n",
       "      <td>3</td>\n",
       "      <td>1</td>\n",
       "      <td>41</td>\n",
       "      <td>137</td>\n",
       "      <td>0</td>\n",
       "    </tr>\n",
       "  </tbody>\n",
       "</table>\n",
       "<p>8000 rows × 6 columns</p>\n",
       "</div>"
      ],
      "text/plain": [
       "             ip  app  device  os  channel  is_attributed\n",
       "796716   235700   14       1  19      401              0\n",
       "898114   221442  116       1  28      101              1\n",
       "2193032  107155   15       1  17      245              0\n",
       "2072853  323190   18       1  12      449              0\n",
       "1390668   73124    9       1  16      466              1\n",
       "...         ...  ...     ...  ..      ...            ...\n",
       "1132972   59508    5       1  13      377              0\n",
       "1217592  239235    3       1  19      205              0\n",
       "988566    75634    2       1  27      205              0\n",
       "1218612  143638   11       1   6      325              0\n",
       "699505    36213    3       1  41      137              0\n",
       "\n",
       "[8000 rows x 6 columns]"
      ]
     },
     "execution_count": 226,
     "metadata": {},
     "output_type": "execute_result"
    }
   ],
   "source": [
    "x_train"
   ]
  },
  {
   "cell_type": "code",
   "execution_count": 227,
   "id": "06d8bee7",
   "metadata": {},
   "outputs": [],
   "source": [
    "def resamplingDataPrep(X_train, y_train, target_var): \n",
    "    # concatenate our training data back together\n",
    "    resampling = X_train.copy()\n",
    "    resampling[target_var] = y_train.values\n",
    "    # separate minority and majority classes\n",
    "    majority_class = resampling[resampling[target_var]==0]\n",
    "    minority_class = resampling[resampling[target_var]==1]\n",
    "    # Get a class count to understand the class imbalance.\n",
    "    print('majority_class: '+ str(len(majority_class)))\n",
    "    print('minority_class: '+ str(len(minority_class)))\n",
    "    return majority_class, minority_class"
   ]
  },
  {
   "cell_type": "code",
   "execution_count": 228,
   "id": "7d8d8f29",
   "metadata": {},
   "outputs": [],
   "source": [
    "def upsample_SMOTE(X_train, y_train, ratio=1.0):\n",
    "    \"\"\"Upsamples minority class using SMOTE.\n",
    "    Ratio argument is the percentage of the upsampled minority class in relation\n",
    "    to the majority class. Default is 1.0\n",
    "    \"\"\"\n",
    "    sm = SMOTE(random_state=23, sampling_strategy=ratio)\n",
    "    X_train_sm, y_train_sm = sm.fit_resample(X_train, y_train)\n",
    "    print(len(X_train_sm), len(y_train_sm))\n",
    "    return X_train_sm, y_train_sm"
   ]
  },
  {
   "cell_type": "code",
   "execution_count": 229,
   "id": "bcb54b8b",
   "metadata": {},
   "outputs": [
    {
     "name": "stdout",
     "output_type": "stream",
     "text": [
      "majority_class: 6396\n",
      "minority_class: 1604\n"
     ]
    },
    {
     "data": {
      "text/plain": [
       "(             ip  app  device  os  channel  is_attributed\n",
       " 796716   235700   14       1  19      401              0\n",
       " 2193032  107155   15       1  17      245              0\n",
       " 2072853  323190   18       1  12      449              0\n",
       " 532721   167569    3       1  15      205              0\n",
       " 1181949  131812    3       1  19      280              0\n",
       " ...         ...  ...     ...  ..      ...            ...\n",
       " 1132972   59508    5       1  13      377              0\n",
       " 1217592  239235    3       1  19      205              0\n",
       " 988566    75634    2       1  27      205              0\n",
       " 1218612  143638   11       1   6      325              0\n",
       " 699505    36213    3       1  41      137              0\n",
       " \n",
       " [6396 rows x 6 columns],\n",
       "              ip  app  device  os  channel  is_attributed\n",
       " 898114   221442  116       1  28      101              1\n",
       " 1390668   73124    9       1  16      466              1\n",
       " 1849906  198944    9       1  22      244              1\n",
       " 1125448    4486    9       1  22      244              1\n",
       " 959101   248831   35       1  17       21              1\n",
       " ...         ...  ...     ...  ..      ...            ...\n",
       " 426085    23986   24       1  13      178              1\n",
       " 301649   122251    8       1  13      145              1\n",
       " 1338437  269410   19       0  38      347              1\n",
       " 848649    61424   10       1  19      377              1\n",
       " 622801    14523    9       1  19      215              1\n",
       " \n",
       " [1604 rows x 6 columns])"
      ]
     },
     "execution_count": 229,
     "metadata": {},
     "output_type": "execute_result"
    }
   ],
   "source": [
    "resamplingDataPrep(x_train, y_train, \"is_attributed\")"
   ]
  },
  {
   "cell_type": "code",
   "execution_count": 230,
   "id": "b5a1f70f",
   "metadata": {},
   "outputs": [
    {
     "name": "stdout",
     "output_type": "stream",
     "text": [
      "12792 12792\n",
      "           ip  app  device  os  channel  is_attributed\n",
      "0      235700   14       1  19      401              0\n",
      "1      221442  116       1  28      101              1\n",
      "2      107155   15       1  17      245              0\n",
      "3      323190   18       1  12      449              0\n",
      "4       73124    9       1  16      466              1\n",
      "...       ...  ...     ...  ..      ...            ...\n",
      "12787  190758   15       0  20      185              1\n",
      "12788  201465   19       0  46      213              1\n",
      "12789  345058   18       0  22      278              1\n",
      "12790   49538   29       1  13      219              1\n",
      "12791  320111   54       1  24      280              1\n",
      "\n",
      "[12792 rows x 6 columns] 0        0\n",
      "1        1\n",
      "2        0\n",
      "3        0\n",
      "4        1\n",
      "        ..\n",
      "12787    1\n",
      "12788    1\n",
      "12789    1\n",
      "12790    1\n",
      "12791    1\n",
      "Name: is_attributed, Length: 12792, dtype: int64\n"
     ]
    }
   ],
   "source": [
    "import imblearn as imblearn\n",
    "from imblearn import under_sampling, over_sampling\n",
    "from imblearn.over_sampling import SMOTE \n",
    "\n",
    "X_train_sm, y_train_sm = upsample_SMOTE(x_train, y_train, ratio=1.0)\n",
    "print(X_train_sm, y_train_sm )"
   ]
  },
  {
   "cell_type": "code",
   "execution_count": 232,
   "id": "2ce9e304",
   "metadata": {},
   "outputs": [],
   "source": [
    "from sklearn.feature_selection import RFE\n",
    "from sklearn.linear_model import LogisticRegression\n",
    "from sklearn.preprocessing import MinMaxScaler"
   ]
  },
  {
   "cell_type": "code",
   "execution_count": null,
   "id": "58c17fd9",
   "metadata": {},
   "outputs": [],
   "source": [
    "#feature selection\n",
    "\n",
    "# pearson's correlation feature selection for numeric input and numeric output\n",
    "from sklearn.datasets import make_regression\n",
    "from sklearn.feature_selection import SelectKBest\n",
    "from sklearn.feature_selection import f_regression\n",
    "# define feature selection\n",
    "fs = SelectKBest(score_func=f_regression, k=2)\n",
    "# apply feature selection\n",
    "X_train_sm = fs.fit_transform(X_train_sm, y_train_sm)"
   ]
  },
  {
   "cell_type": "code",
   "execution_count": 234,
   "id": "808affe4",
   "metadata": {},
   "outputs": [
    {
     "data": {
      "text/plain": [
       "MinMaxScaler()"
      ]
     },
     "execution_count": 234,
     "metadata": {},
     "output_type": "execute_result"
    }
   ],
   "source": [
    "scaler = MinMaxScaler()\n",
    "scaler.fit(X_train_sm)"
   ]
  },
  {
   "cell_type": "code",
   "execution_count": 235,
   "id": "acd9d240",
   "metadata": {},
   "outputs": [
    {
     "data": {
      "text/plain": [
       "(2000,)"
      ]
     },
     "execution_count": 235,
     "metadata": {},
     "output_type": "execute_result"
    }
   ],
   "source": [
    "y_test.shape"
   ]
  },
  {
   "cell_type": "code",
   "execution_count": 236,
   "id": "ce8af5f5",
   "metadata": {},
   "outputs": [],
   "source": [
    "from sklearn.linear_model import LogisticRegression\n",
    "clf1 = LogisticRegression(random_state=0, max_iter=1000).fit(X_train_sm, y_train_sm)\n",
    "y_predicted= clf1.predict(x_test)"
   ]
  },
  {
   "cell_type": "code",
   "execution_count": 237,
   "id": "0af10820",
   "metadata": {},
   "outputs": [
    {
     "data": {
      "text/plain": [
       "0.7235"
      ]
     },
     "execution_count": 237,
     "metadata": {},
     "output_type": "execute_result"
    }
   ],
   "source": [
    "#Accuracy = TP+TN/TP+FP+FN+TN\n",
    "from sklearn.metrics import accuracy_score\n",
    "accuracy_score(y_test, y_predicted)\n"
   ]
  },
  {
   "cell_type": "code",
   "execution_count": 238,
   "id": "23e89509",
   "metadata": {},
   "outputs": [
    {
     "data": {
      "text/plain": [
       "array([[1158,  450],\n",
       "       [ 103,  289]])"
      ]
     },
     "execution_count": 238,
     "metadata": {},
     "output_type": "execute_result"
    }
   ],
   "source": [
    "#the count of true negatives is C00, false negatives isC10 , true positives is C11 and false positives is C01 .\n",
    "confusion_matrix(y_test, y_predicted)"
   ]
  },
  {
   "cell_type": "code",
   "execution_count": 239,
   "id": "8322e0f9",
   "metadata": {},
   "outputs": [
    {
     "data": {
      "image/png": "[encoded data removed]",
      "text/plain": [
       "<Figure size 432x288 with 1 Axes>"
      ]
     },
     "metadata": {
      "needs_background": "light"
     },
     "output_type": "display_data"
    }
   ],
   "source": [
    "from sklearn import metrics\n",
    "import matplotlib.pyplot as plt\n",
    "y_pred_proba = clf1.predict_proba(x_test)[::,1]\n",
    "fpr, tpr, _ = metrics.roc_curve(y_test,  y_pred_proba)\n",
    "auc = metrics.roc_auc_score(y_test, y_pred_proba)\n",
    "plt.plot(fpr,tpr,label=\"data 1, auc=\"+str(auc))\n",
    "plt.legend(loc=4)\n",
    "plt.show()"
   ]
  },
  {
   "cell_type": "code",
   "execution_count": 240,
   "id": "93021042",
   "metadata": {},
   "outputs": [],
   "source": [
    "#SVM\n",
    "from sklearn import svm\n",
    "clf2 = svm.SVC( probability=True)\n",
    "clf2.fit(X_train_sm, y_train_sm)\n",
    "y_predicted = clf2.predict(x_test)"
   ]
  },
  {
   "cell_type": "code",
   "execution_count": 241,
   "id": "5c012c27",
   "metadata": {},
   "outputs": [
    {
     "data": {
      "text/plain": [
       "0.766"
      ]
     },
     "execution_count": 241,
     "metadata": {},
     "output_type": "execute_result"
    }
   ],
   "source": [
    "accuracy_score(y_test, y_predicted)"
   ]
  },
  {
   "cell_type": "code",
   "execution_count": 242,
   "id": "c3a8f7ed",
   "metadata": {},
   "outputs": [
    {
     "data": {
      "text/plain": [
       "array([[1322,  286],\n",
       "       [ 182,  210]])"
      ]
     },
     "execution_count": 242,
     "metadata": {},
     "output_type": "execute_result"
    }
   ],
   "source": [
    "#the count of true negatives is C00, false negatives isC10 , true positives is C11 and false positives is C01 .\n",
    "confusion_matrix(y_test, y_predicted)"
   ]
  },
  {
   "cell_type": "code",
   "execution_count": 243,
   "id": "69dc5923",
   "metadata": {},
   "outputs": [
    {
     "data": {
      "image/png": "[encoded data removed]",
      "text/plain": [
       "<Figure size 432x288 with 1 Axes>"
      ]
     },
     "metadata": {
      "needs_background": "light"
     },
     "output_type": "display_data"
    }
   ],
   "source": [
    "y_pred_proba = clf2.predict_proba(x_test)[::,1]\n",
    "fpr, tpr, _ = metrics.roc_curve(y_test,  y_pred_proba)\n",
    "auc = metrics.roc_auc_score(y_test, y_pred_proba)\n",
    "plt.plot(fpr,tpr,label=\"data 1, auc=\"+str(auc))\n",
    "plt.legend(loc=4)\n",
    "plt.show()"
   ]
  },
  {
   "cell_type": "code",
   "execution_count": 244,
   "id": "fe09fe67",
   "metadata": {},
   "outputs": [],
   "source": [
    "#kmeans\n",
    "from sklearn.cluster import KMeans\n",
    "kmeans = KMeans(n_clusters=2, random_state=0).fit(X_train_sm)\n",
    "y_predicted = kmeans.predict(x_test)"
   ]
  },
  {
   "cell_type": "code",
   "execution_count": 245,
   "id": "ff351e85",
   "metadata": {},
   "outputs": [
    {
     "data": {
      "text/plain": [
       "-4284983968348.8496"
      ]
     },
     "execution_count": 245,
     "metadata": {},
     "output_type": "execute_result"
    }
   ],
   "source": [
    "kmeans.score(x_test)"
   ]
  },
  {
   "cell_type": "code",
   "execution_count": 246,
   "id": "8d63c722",
   "metadata": {},
   "outputs": [
    {
     "data": {
      "text/plain": [
       "0.7715"
      ]
     },
     "execution_count": 246,
     "metadata": {},
     "output_type": "execute_result"
    }
   ],
   "source": [
    "accuracy_score(y_test, y_predicted)"
   ]
  },
  {
   "cell_type": "code",
   "execution_count": 247,
   "id": "7c214b2d",
   "metadata": {},
   "outputs": [
    {
     "data": {
      "text/plain": [
       "array([[1350,  258],\n",
       "       [ 199,  193]])"
      ]
     },
     "execution_count": 247,
     "metadata": {},
     "output_type": "execute_result"
    }
   ],
   "source": [
    "#the count of true negatives is C00, false negatives isC10 , true positives is C11 and false positives is C01 .\n",
    "confusion_matrix(y_test, y_predicted)"
   ]
  },
  {
   "cell_type": "code",
   "execution_count": 248,
   "id": "0a65e8b8",
   "metadata": {},
   "outputs": [],
   "source": [
    "#decisionTree\n",
    "from sklearn.model_selection import cross_val_score\n",
    "from sklearn.tree import DecisionTreeClassifier\n",
    "clf3 = DecisionTreeClassifier(random_state=0)\n",
    "cross_val_score(clf3, X_train_sm, y_train_sm, cv=10)\n",
    "clf3.fit(X_train_sm, y_train_sm)\n",
    "y_predicted = clf3.predict(x_test)"
   ]
  },
  {
   "cell_type": "code",
   "execution_count": 249,
   "id": "68ab3be8",
   "metadata": {},
   "outputs": [
    {
     "data": {
      "text/plain": [
       "1.0"
      ]
     },
     "execution_count": 249,
     "metadata": {},
     "output_type": "execute_result"
    }
   ],
   "source": [
    "accuracy_score(y_test, y_predicted)"
   ]
  },
  {
   "cell_type": "code",
   "execution_count": 250,
   "id": "cb14c960",
   "metadata": {},
   "outputs": [
    {
     "data": {
      "text/plain": [
       "array([[1608,    0],\n",
       "       [   0,  392]])"
      ]
     },
     "execution_count": 250,
     "metadata": {},
     "output_type": "execute_result"
    }
   ],
   "source": [
    "#the count of true negatives is C00, false negatives isC10 , true positives is C11 and false positives is C01 .\n",
    "confusion_matrix(y_test, y_predicted)"
   ]
  },
  {
   "cell_type": "code",
   "execution_count": 251,
   "id": "e3450bf0",
   "metadata": {},
   "outputs": [
    {
     "data": {
      "image/png": "[encoded data removed]",
      "text/plain": [
       "<Figure size 432x288 with 1 Axes>"
      ]
     },
     "metadata": {
      "needs_background": "light"
     },
     "output_type": "display_data"
    }
   ],
   "source": [
    "#roc plot\n",
    "from sklearn.metrics import RocCurveDisplay\n",
    "ax = plt.gca()\n",
    "rfc_disp = RocCurveDisplay.from_estimator(clf3, x_test, y_test, ax=ax, alpha=0.8)\n",
    "# svc_disp.plot(ax=ax, alpha=0.8)\n",
    "plt.show()"
   ]
  },
  {
   "cell_type": "code",
   "execution_count": 252,
   "id": "55dcf0c8",
   "metadata": {},
   "outputs": [
    {
     "data": {
      "text/plain": [
       "array([0, 0, 0, ..., 0, 0, 0])"
      ]
     },
     "execution_count": 252,
     "metadata": {},
     "output_type": "execute_result"
    }
   ],
   "source": [
    "#random forst\n",
    "from sklearn.ensemble import RandomForestClassifier\n",
    "from sklearn.datasets import make_classification\n",
    "clf4 = RandomForestClassifier()\n",
    "clf4.fit(X_train_sm, y_train_sm)\n",
    "y_predicted = clf4.predict(x_test)\n",
    "y_predicted"
   ]
  },
  {
   "cell_type": "code",
   "execution_count": 253,
   "id": "6cf198f3",
   "metadata": {},
   "outputs": [
    {
     "data": {
      "text/plain": [
       "1.0"
      ]
     },
     "execution_count": 253,
     "metadata": {},
     "output_type": "execute_result"
    }
   ],
   "source": [
    "accuracy_score(y_test, y_predicted)"
   ]
  },
  {
   "cell_type": "code",
   "execution_count": 254,
   "id": "32588a78",
   "metadata": {},
   "outputs": [
    {
     "data": {
      "text/plain": [
       "array([[1608,    0],\n",
       "       [   0,  392]])"
      ]
     },
     "execution_count": 254,
     "metadata": {},
     "output_type": "execute_result"
    }
   ],
   "source": [
    "#the count of true negatives is C00, false negatives isC10 , true positives is C11 and false positives is C01 .\n",
    "confusion_matrix(y_test, y_predicted)"
   ]
  },
  {
   "cell_type": "code",
   "execution_count": 255,
   "id": "58f917d4",
   "metadata": {},
   "outputs": [
    {
     "data": {
      "image/png": "[encoded data removed]",
      "text/plain": [
       "<Figure size 432x288 with 1 Axes>"
      ]
     },
     "metadata": {
      "needs_background": "light"
     },
     "output_type": "display_data"
    }
   ],
   "source": [
    "#roc plot\n",
    "from sklearn.metrics import RocCurveDisplay\n",
    "ax = plt.gca()\n",
    "rfc_disp = RocCurveDisplay.from_estimator(clf4, x_test, y_test, ax=ax, alpha=0.8)\n",
    "# svc_disp.plot(ax=ax, alpha=0.8)\n",
    "plt.show()"
   ]
  },
  {
   "cell_type": "code",
   "execution_count": 256,
   "id": "5010192d",
   "metadata": {},
   "outputs": [
    {
     "name": "stdout",
     "output_type": "stream",
     "text": [
      "             0         1\n",
      "0     0.999898  0.000102\n",
      "1     0.999898  0.000102\n",
      "2     0.999898  0.000102\n",
      "3     0.999898  0.000102\n",
      "4     0.000240  0.999760\n",
      "...        ...       ...\n",
      "1995  0.000240  0.999760\n",
      "1996  0.000002  0.999998\n",
      "1997  0.999898  0.000102\n",
      "1998  0.999898  0.000102\n",
      "1999  0.999898  0.000102\n",
      "\n",
      "[2000 rows x 2 columns]\n",
      "[0 0 0 ... 0 0 0]\n",
      "0.9995\n"
     ]
    }
   ],
   "source": [
    "#naive bayes\n",
    "from sklearn.naive_bayes import BernoulliNB\n",
    "BNB = BernoulliNB()\n",
    "# y_predicted = gnb.fit(X_train_sm, X_train_sm).predict(x_test)\n",
    "# print(\"Number of mislabeled points out of a total %d points : %d\"% (X_test.shape[0], (y_test != y_predicted ).sum()))\n",
    "Ar_R = BNB.fit(X_train_sm, y_train_sm).predict_proba(x_test)  # Can be combined to a single line.\n",
    "\n",
    "\n",
    "\n",
    "\n",
    "\n",
    "df_R = pd.DataFrame(Ar_R)\n",
    "df_R.columns = BNB.classes_\n",
    "# Columns are class labels and Rows are observations.\n",
    "# Each entry is a probability of that observation being assigned to that class label.\n",
    "print(df_R)\n",
    "\n",
    "predicted_labels = df_R.idxmax(axis=1).values  # For each row, take the column with the highest prob in that row.\n",
    "print(predicted_labels)  \n",
    "\n",
    "print(accuracy_score(y_test, predicted_labels))  # Percent accuracy of prediction.\n",
    "  "
   ]
  },
  {
   "cell_type": "code",
   "execution_count": 257,
   "id": "9662da06",
   "metadata": {},
   "outputs": [
    {
     "data": {
      "text/plain": [
       "array([[1607,    1],\n",
       "       [   0,  392]])"
      ]
     },
     "execution_count": 257,
     "metadata": {},
     "output_type": "execute_result"
    }
   ],
   "source": [
    "#the count of true negatives is C00, false negatives isC10 , true positives is C11 and false positives is C01 .\n",
    "confusion_matrix(y_test,predicted_labels)"
   ]
  },
  {
   "cell_type": "code",
   "execution_count": 258,
   "id": "d8da8229",
   "metadata": {},
   "outputs": [
    {
     "data": {
      "text/plain": [
       "0.9995"
      ]
     },
     "execution_count": 258,
     "metadata": {},
     "output_type": "execute_result"
    }
   ],
   "source": [
    "BNB.score(x_test, y_test)"
   ]
  },
  {
   "cell_type": "code",
   "execution_count": 259,
   "id": "eb91f249",
   "metadata": {},
   "outputs": [
    {
     "data": {
      "text/plain": [
       "<matplotlib.legend.Legend at 0x7f563ec1a490>"
      ]
     },
     "execution_count": 259,
     "metadata": {},
     "output_type": "execute_result"
    },
    {
     "data": {
      "image/png": "[encoded data removed]",
      "text/plain": [
       "<Figure size 432x288 with 1 Axes>"
      ]
     },
     "metadata": {
      "needs_background": "light"
     },
     "output_type": "display_data"
    }
   ],
   "source": [
    "from sklearn.metrics import roc_curve, auc\n",
    "import matplotlib.pyplot as plt\n",
    "Y_BNB_score = BNB.predict_proba(x_test)\n",
    "fpr_bnb, tpr_bnb, thresholds_bnb = roc_curve(y_test, Y_BNB_score[:, 1])\n",
    "# metrics.plot_roc_curve(BNB, x_test, y_test) \n",
    "# plt.show(roc_curve)\n",
    "roc_auc = auc(fpr_bnb, tpr_bnb)\n",
    "\n",
    "# Plot ROC curve\n",
    "plt.plot(fpr_bnb, tpr_bnb, label='ROC curve (area = %0.3f)' % roc_auc)\n",
    "plt.plot([0, 1], [0, 1], 'k--')  # random predictions curve\n",
    "plt.xlim([0.0, 1.0])\n",
    "plt.ylim([0.0, 1.0])\n",
    "plt.xlabel('False Positive Rate or (1 - Specifity)')\n",
    "plt.ylabel('True Positive Rate or (Sensitivity)')\n",
    "plt.title('Receiver Operating Characteristic')\n",
    "plt.legend(loc=\"lower right\")"
   ]
  },
  {
   "cell_type": "markdown",
   "id": "6d79324a",
   "metadata": {},
   "source": [
    "Without upsampling"
   ]
  },
  {
   "cell_type": "code",
   "execution_count": 260,
   "id": "d3f3d883",
   "metadata": {},
   "outputs": [
    {
     "data": {
      "text/plain": [
       "(             ip  app  device  os  channel  is_attributed\n",
       " 796716   235700   14       1  19      401              0\n",
       " 898114   221442  116       1  28      101              1\n",
       " 2193032  107155   15       1  17      245              0\n",
       " 2072853  323190   18       1  12      449              0\n",
       " 1390668   73124    9       1  16      466              1\n",
       " ...         ...  ...     ...  ..      ...            ...\n",
       " 1132972   59508    5       1  13      377              0\n",
       " 1217592  239235    3       1  19      205              0\n",
       " 988566    75634    2       1  27      205              0\n",
       " 1218612  143638   11       1   6      325              0\n",
       " 699505    36213    3       1  41      137              0\n",
       " \n",
       " [8000 rows x 6 columns],\n",
       "              ip  app  device  os  channel  is_attributed\n",
       " 1316151  125141   27       1  13      122              0\n",
       " 1904271   20576    2       1  17      477              0\n",
       " 1042624   12091    2       1  18      237              0\n",
       " 1593510   80447   15       1  18      140              0\n",
       " 2138061  124576    2       1  22      469              1\n",
       " ...         ...  ...     ...  ..      ...            ...\n",
       " 129808   160932   35       1  19       21              1\n",
       " 2217484   88441   19       0  29      101              1\n",
       " 619670   131178   18       1  41      107              0\n",
       " 131673    80974   12       1  19      178              0\n",
       " 392220    22829    9       1  19      215              0\n",
       " \n",
       " [2000 rows x 6 columns],\n",
       " 796716     0\n",
       " 898114     1\n",
       " 2193032    0\n",
       " 2072853    0\n",
       " 1390668    1\n",
       "           ..\n",
       " 1132972    0\n",
       " 1217592    0\n",
       " 988566     0\n",
       " 1218612    0\n",
       " 699505     0\n",
       " Name: is_attributed, Length: 8000, dtype: int64,\n",
       " 1316151    0\n",
       " 1904271    0\n",
       " 1042624    0\n",
       " 1593510    0\n",
       " 2138061    1\n",
       "           ..\n",
       " 129808     1\n",
       " 2217484    1\n",
       " 619670     0\n",
       " 131673     0\n",
       " 392220     0\n",
       " Name: is_attributed, Length: 2000, dtype: int64)"
      ]
     },
     "execution_count": 260,
     "metadata": {},
     "output_type": "execute_result"
    }
   ],
   "source": [
    "x_train2, x_test2, y_train2, y_test2 "
   ]
  },
  {
   "cell_type": "code",
   "execution_count": 261,
   "id": "3b809d79",
   "metadata": {},
   "outputs": [
    {
     "name": "stdout",
     "output_type": "stream",
     "text": [
      "             0         1\n",
      "0     0.999891  0.000109\n",
      "1     0.999891  0.000109\n",
      "2     0.999891  0.000109\n",
      "3     0.999891  0.000109\n",
      "4     0.000892  0.999108\n",
      "...        ...       ...\n",
      "1995  0.000892  0.999108\n",
      "1996  0.000014  0.999986\n",
      "1997  0.999891  0.000109\n",
      "1998  0.999891  0.000109\n",
      "1999  0.999891  0.000109\n",
      "\n",
      "[2000 rows x 2 columns]\n",
      "[0 0 0 ... 0 0 0]\n",
      "0.9995\n"
     ]
    }
   ],
   "source": [
    "#naive bayes\n",
    "from sklearn.naive_bayes import BernoulliNB\n",
    "BNB = BernoulliNB()\n",
    "# y_predicted = gnb.fit(X_train_sm, X_train_sm).predict(x_test)\n",
    "# print(\"Number of mislabeled points out of a total %d points : %d\"% (X_test.shape[0], (y_test != y_predicted ).sum()))\n",
    "Ar_R = BNB.fit(x_train2, y_train2).predict_proba(x_test2)  # Can be combined to a single line.\n",
    "\n",
    "\n",
    "\n",
    "\n",
    "\n",
    "df_R = pd.DataFrame(Ar_R)\n",
    "df_R.columns = BNB.classes_\n",
    "# Columns are class labels and Rows are observations.\n",
    "# Each entry is a probability of that observation being assigned to that class label.\n",
    "print(df_R)\n",
    "\n",
    "predicted_labels = df_R.idxmax(axis=1).values  # For each row, take the column with the highest prob in that row.\n",
    "print(predicted_labels)  \n",
    "\n",
    "print(accuracy_score(y_test2, predicted_labels))  # Percent accuracy of prediction.\n",
    "  "
   ]
  },
  {
   "cell_type": "code",
   "execution_count": 262,
   "id": "5b336fd6",
   "metadata": {},
   "outputs": [
    {
     "data": {
      "text/plain": [
       "array([[1607,    1],\n",
       "       [   0,  392]])"
      ]
     },
     "execution_count": 262,
     "metadata": {},
     "output_type": "execute_result"
    }
   ],
   "source": [
    "#the count of true negatives is C00, false negatives isC10 , true positives is C11 and false positives is C01 .\n",
    "confusion_matrix(y_test2,predicted_labels)"
   ]
  },
  {
   "cell_type": "code",
   "execution_count": 263,
   "id": "30e6756f",
   "metadata": {},
   "outputs": [
    {
     "data": {
      "text/plain": [
       "0.9995"
      ]
     },
     "execution_count": 263,
     "metadata": {},
     "output_type": "execute_result"
    }
   ],
   "source": [
    "BNB.score(x_test2, y_test2)"
   ]
  },
  {
   "cell_type": "code",
   "execution_count": 264,
   "id": "8eada505",
   "metadata": {},
   "outputs": [
    {
     "data": {
      "text/plain": [
       "<matplotlib.legend.Legend at 0x7f56223db5d0>"
      ]
     },
     "execution_count": 264,
     "metadata": {},
     "output_type": "execute_result"
    },
    {
     "data": {
      "image/png": "[encoded data removed]",
      "text/plain": [
       "<Figure size 432x288 with 1 Axes>"
      ]
     },
     "metadata": {
      "needs_background": "light"
     },
     "output_type": "display_data"
    }
   ],
   "source": [
    "from sklearn.metrics import roc_curve, auc\n",
    "import matplotlib.pyplot as plt\n",
    "Y_BNB_score = BNB.predict_proba(x_test2)\n",
    "fpr_bnb, tpr_bnb, thresholds_bnb = roc_curve(y_test2, Y_BNB_score[:, 1])\n",
    "# metrics.plot_roc_curve(BNB, x_test, y_test) \n",
    "# plt.show(roc_curve)\n",
    "roc_auc = auc(fpr_bnb, tpr_bnb)\n",
    "\n",
    "# Plot ROC curve\n",
    "plt.plot(fpr_bnb, tpr_bnb, label='ROC curve (area = %0.3f)' % roc_auc)\n",
    "plt.plot([0, 1], [0, 1], 'k--')  # random predictions curve\n",
    "plt.xlim([0.0, 1.0])\n",
    "plt.ylim([0.0, 1.0])\n",
    "plt.xlabel('False Positive Rate or (1 - Specifity)')\n",
    "plt.ylabel('True Positive Rate or (Sensitivity)')\n",
    "plt.title('Receiver Operating Characteristic')\n",
    "plt.legend(loc=\"lower right\")"
   ]
  },
  {
   "cell_type": "code",
   "execution_count": null,
   "id": "a9300bda",
   "metadata": {},
   "outputs": [],
   "source": []
  },
  {
   "cell_type": "code",
   "execution_count": null,
   "id": "3a438c08",
   "metadata": {},
   "outputs": [],
   "source": []
  }
 ],
 "metadata": {
  "kernelspec": {
   "display_name": "Python 3",
   "language": "python",
   "name": "python3"
  },
  "language_info": {
   "codemirror_mode": {
    "name": "ipython",
    "version": 3
   },
   "file_extension": ".py",
   "mimetype": "text/x-python",
   "name": "python",
   "nbconvert_exporter": "python",
   "pygments_lexer": "ipython3",
   "version": "3.7.10"
  }
 },
 "nbformat": 4,
 "nbformat_minor": 5
}
